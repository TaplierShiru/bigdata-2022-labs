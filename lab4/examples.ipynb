{
 "cells": [
  {
   "cell_type": "code",
   "execution_count": 1,
   "id": "9872d741",
   "metadata": {},
   "outputs": [],
   "source": [
    "import logging\n",
    "# Set in to avoid following issue:\n",
    "#  No handlers could be found for logger \"kazoo.client\"\n",
    "logging.basicConfig()\n",
    "\n",
    "from kazoo.client import KazooClient\n",
    "zk = KazooClient()\n",
    "zk.start()"
   ]
  },
  {
   "cell_type": "code",
   "execution_count": 2,
   "id": "d6282fd4",
   "metadata": {},
   "outputs": [
    {
     "data": {
      "text/plain": [
       "['zookeeper']"
      ]
     },
     "execution_count": 2,
     "metadata": {},
     "output_type": "execute_result"
    }
   ],
   "source": [
    "# Same as `ls /`\n",
    "zk.get_children(\"/\")"
   ]
  },
  {
   "cell_type": "code",
   "execution_count": 3,
   "id": "1ed71c03",
   "metadata": {},
   "outputs": [
    {
     "data": {
      "text/plain": [
       "(['quota'], [])"
      ]
     },
     "execution_count": 3,
     "metadata": {},
     "output_type": "execute_result"
    }
   ],
   "source": [
    "zk.get_children(\"/zookeeper\"), zk.get_children(\"/zookeeper/quota\")"
   ]
  },
  {
   "cell_type": "code",
   "execution_count": 4,
   "id": "fbc0e411",
   "metadata": {},
   "outputs": [
    {
     "data": {
      "text/plain": [
       "'/mynode'"
      ]
     },
     "execution_count": 4,
     "metadata": {},
     "output_type": "execute_result"
    }
   ],
   "source": [
    "zk.create(path=\"/mynode\", value=b\"first_version\")"
   ]
  },
  {
   "cell_type": "code",
   "execution_count": 5,
   "id": "1ff611e6",
   "metadata": {},
   "outputs": [
    {
     "data": {
      "text/plain": [
       "['mynode', 'zookeeper']"
      ]
     },
     "execution_count": 5,
     "metadata": {},
     "output_type": "execute_result"
    }
   ],
   "source": [
    "zk.get_children(\"/\")"
   ]
  },
  {
   "cell_type": "code",
   "execution_count": 6,
   "id": "4c1a7821",
   "metadata": {},
   "outputs": [
    {
     "data": {
      "text/plain": [
       "(b'first_version',\n",
       " ZnodeStat(czxid=2, mzxid=2, ctime=1666874586670, mtime=1666874586670, version=0, cversion=0, aversion=0, ephemeralOwner=0, dataLength=13, numChildren=0, pzxid=2))"
      ]
     },
     "execution_count": 6,
     "metadata": {},
     "output_type": "execute_result"
    }
   ],
   "source": [
    "zk.get('/mynode')  # Returns tuple (Value, Metadata), same as get /mynode && stat /mynode"
   ]
  },
  {
   "cell_type": "code",
   "execution_count": 7,
   "id": "a26b22ec",
   "metadata": {},
   "outputs": [
    {
     "data": {
      "text/plain": [
       "ZnodeStat(czxid=2, mzxid=3, ctime=1666874586670, mtime=1666874610271, version=1, cversion=0, aversion=0, ephemeralOwner=0, dataLength=14, numChildren=0, pzxid=2)"
      ]
     },
     "execution_count": 7,
     "metadata": {},
     "output_type": "execute_result"
    }
   ],
   "source": [
    "zk.set('/mynode', value=b\"second_version\")"
   ]
  },
  {
   "cell_type": "code",
   "execution_count": 8,
   "id": "41cc3636",
   "metadata": {},
   "outputs": [
    {
     "data": {
      "text/plain": [
       "(b'second_version',\n",
       " ZnodeStat(czxid=2, mzxid=3, ctime=1666874586670, mtime=1666874610271, version=1, cversion=0, aversion=0, ephemeralOwner=0, dataLength=14, numChildren=0, pzxid=2))"
      ]
     },
     "execution_count": 8,
     "metadata": {},
     "output_type": "execute_result"
    }
   ],
   "source": [
    "zk.get('/mynode') "
   ]
  },
  {
   "cell_type": "markdown",
   "id": "1b126f31",
   "metadata": {},
   "source": [
    "## Create two sequential nodes"
   ]
  },
  {
   "cell_type": "code",
   "execution_count": 9,
   "id": "c22954bf",
   "metadata": {},
   "outputs": [
    {
     "data": {
      "text/plain": [
       "'/mynode/child0000000001'"
      ]
     },
     "execution_count": 9,
     "metadata": {},
     "output_type": "execute_result"
    }
   ],
   "source": [
    "# Same as create -s /mynode/child 'data'\n",
    "zk.create('/mynode/child', value=b'im_sequential', sequence=True)\n",
    "zk.create('/mynode/child', value=b'im_sequential_too', sequence=True)"
   ]
  },
  {
   "cell_type": "code",
   "execution_count": 11,
   "id": "ed80ce66",
   "metadata": {},
   "outputs": [
    {
     "data": {
      "text/plain": [
       "['child0000000000', 'child0000000001']"
      ]
     },
     "execution_count": 11,
     "metadata": {},
     "output_type": "execute_result"
    }
   ],
   "source": [
    "zk.get_children('/mynode')"
   ]
  },
  {
   "cell_type": "code",
   "execution_count": null,
   "id": "298cd5ef",
   "metadata": {},
   "outputs": [],
   "source": []
  },
  {
   "cell_type": "code",
   "execution_count": null,
   "id": "b7e163d8",
   "metadata": {},
   "outputs": [],
   "source": []
  },
  {
   "cell_type": "markdown",
   "id": "85b4854d",
   "metadata": {},
   "source": [
    "## Simultanious connections and Ephemeral nodes"
   ]
  },
  {
   "cell_type": "code",
   "execution_count": 12,
   "id": "65254fc1",
   "metadata": {},
   "outputs": [],
   "source": [
    "zk1, zk2 = KazooClient(), KazooClient()\n",
    "zk1.start()\n",
    "zk2.start()"
   ]
  },
  {
   "cell_type": "code",
   "execution_count": 13,
   "id": "0456d5af",
   "metadata": {},
   "outputs": [
    {
     "data": {
      "text/plain": [
       "'/mygroup'"
      ]
     },
     "execution_count": 13,
     "metadata": {},
     "output_type": "execute_result"
    }
   ],
   "source": [
    "zk.create('/mygroup', b'top_node')"
   ]
  },
  {
   "cell_type": "code",
   "execution_count": 14,
   "id": "ad3e79eb",
   "metadata": {},
   "outputs": [
    {
     "data": {
      "text/plain": [
       "'/mygroup/bleen'"
      ]
     },
     "execution_count": 14,
     "metadata": {},
     "output_type": "execute_result"
    }
   ],
   "source": [
    "zk1.create('/mygroup/grue', b'im_grue', ephemeral=True)\n",
    "zk2.create('/mygroup/bleen', b'im_bleen', ephemeral=True)"
   ]
  },
  {
   "cell_type": "code",
   "execution_count": 15,
   "id": "f81a6fc9",
   "metadata": {},
   "outputs": [
    {
     "data": {
      "text/plain": [
       "['grue', 'bleen']"
      ]
     },
     "execution_count": 15,
     "metadata": {},
     "output_type": "execute_result"
    }
   ],
   "source": [
    "zk.get_children('/mygroup')"
   ]
  },
  {
   "cell_type": "code",
   "execution_count": 16,
   "id": "ed677366",
   "metadata": {},
   "outputs": [
    {
     "data": {
      "text/plain": [
       "(b'im_bleen',\n",
       " ZnodeStat(czxid=12, mzxid=12, ctime=1666874883834, mtime=1666874883834, version=0, cversion=0, aversion=0, ephemeralOwner=72057636928880644, dataLength=8, numChildren=0, pzxid=12))"
      ]
     },
     "execution_count": 16,
     "metadata": {},
     "output_type": "execute_result"
    }
   ],
   "source": [
    " zk1.get('/mygroup/bleen')"
   ]
  },
  {
   "cell_type": "code",
   "execution_count": 17,
   "id": "cbd2cefc",
   "metadata": {},
   "outputs": [],
   "source": [
    "zk2.stop()"
   ]
  },
  {
   "cell_type": "code",
   "execution_count": 18,
   "id": "468c61d9",
   "metadata": {},
   "outputs": [
    {
     "data": {
      "text/plain": [
       "['grue']"
      ]
     },
     "execution_count": 18,
     "metadata": {},
     "output_type": "execute_result"
    }
   ],
   "source": [
    "zk.get_children('/mygroup')"
   ]
  },
  {
   "cell_type": "code",
   "execution_count": 19,
   "id": "44e594b4",
   "metadata": {},
   "outputs": [
    {
     "ename": "NoNodeError",
     "evalue": "",
     "output_type": "error",
     "traceback": [
      "\u001b[0;31m---------------------------------------------------------------------------\u001b[0m",
      "\u001b[0;31mNoNodeError\u001b[0m                               Traceback (most recent call last)",
      "\u001b[0;32m/tmp/ipykernel_663/2505671822.py\u001b[0m in \u001b[0;36m<module>\u001b[0;34m\u001b[0m\n\u001b[0;32m----> 1\u001b[0;31m \u001b[0mzk1\u001b[0m\u001b[0;34m.\u001b[0m\u001b[0mget\u001b[0m\u001b[0;34m(\u001b[0m\u001b[0;34m'/mygroup/bleen'\u001b[0m\u001b[0;34m)\u001b[0m\u001b[0;34m\u001b[0m\u001b[0;34m\u001b[0m\u001b[0m\n\u001b[0m",
      "\u001b[0;32m/usr/local/lib/python3.7/dist-packages/kazoo/client.py\u001b[0m in \u001b[0;36mget\u001b[0;34m(self, path, watch)\u001b[0m\n\u001b[1;32m   1163\u001b[0m \u001b[0;34m\u001b[0m\u001b[0m\n\u001b[1;32m   1164\u001b[0m         \"\"\"\n\u001b[0;32m-> 1165\u001b[0;31m         \u001b[0;32mreturn\u001b[0m \u001b[0mself\u001b[0m\u001b[0;34m.\u001b[0m\u001b[0mget_async\u001b[0m\u001b[0;34m(\u001b[0m\u001b[0mpath\u001b[0m\u001b[0;34m,\u001b[0m \u001b[0mwatch\u001b[0m\u001b[0;34m=\u001b[0m\u001b[0mwatch\u001b[0m\u001b[0;34m)\u001b[0m\u001b[0;34m.\u001b[0m\u001b[0mget\u001b[0m\u001b[0;34m(\u001b[0m\u001b[0;34m)\u001b[0m\u001b[0;34m\u001b[0m\u001b[0;34m\u001b[0m\u001b[0m\n\u001b[0m\u001b[1;32m   1166\u001b[0m \u001b[0;34m\u001b[0m\u001b[0m\n\u001b[1;32m   1167\u001b[0m     \u001b[0;32mdef\u001b[0m \u001b[0mget_async\u001b[0m\u001b[0;34m(\u001b[0m\u001b[0mself\u001b[0m\u001b[0;34m,\u001b[0m \u001b[0mpath\u001b[0m\u001b[0;34m,\u001b[0m \u001b[0mwatch\u001b[0m\u001b[0;34m=\u001b[0m\u001b[0;32mNone\u001b[0m\u001b[0;34m)\u001b[0m\u001b[0;34m:\u001b[0m\u001b[0;34m\u001b[0m\u001b[0;34m\u001b[0m\u001b[0m\n",
      "\u001b[0;32m/usr/local/lib/python3.7/dist-packages/kazoo/handlers/utils.py\u001b[0m in \u001b[0;36mget\u001b[0;34m(self, block, timeout)\u001b[0m\n\u001b[1;32m     84\u001b[0m                     \u001b[0;32mif\u001b[0m \u001b[0mself\u001b[0m\u001b[0;34m.\u001b[0m\u001b[0m_exception\u001b[0m \u001b[0;32mis\u001b[0m \u001b[0;32mNone\u001b[0m\u001b[0;34m:\u001b[0m\u001b[0;34m\u001b[0m\u001b[0;34m\u001b[0m\u001b[0m\n\u001b[1;32m     85\u001b[0m                         \u001b[0;32mreturn\u001b[0m \u001b[0mself\u001b[0m\u001b[0;34m.\u001b[0m\u001b[0mvalue\u001b[0m\u001b[0;34m\u001b[0m\u001b[0;34m\u001b[0m\u001b[0m\n\u001b[0;32m---> 86\u001b[0;31m                     \u001b[0;32mraise\u001b[0m \u001b[0mself\u001b[0m\u001b[0;34m.\u001b[0m\u001b[0m_exception\u001b[0m\u001b[0;34m\u001b[0m\u001b[0;34m\u001b[0m\u001b[0m\n\u001b[0m\u001b[1;32m     87\u001b[0m \u001b[0;34m\u001b[0m\u001b[0m\n\u001b[1;32m     88\u001b[0m             \u001b[0;31m# if we get to this point we timeout\u001b[0m\u001b[0;34m\u001b[0m\u001b[0;34m\u001b[0m\u001b[0;34m\u001b[0m\u001b[0m\n",
      "\u001b[0;31mNoNodeError\u001b[0m: "
     ]
    }
   ],
   "source": [
    "zk1.get('/mygroup/bleen')"
   ]
  },
  {
   "cell_type": "code",
   "execution_count": 20,
   "id": "0da312a3",
   "metadata": {},
   "outputs": [
    {
     "data": {
      "text/plain": [
       "(None, None)"
      ]
     },
     "execution_count": 20,
     "metadata": {},
     "output_type": "execute_result"
    }
   ],
   "source": [
    "zk1.stop(), zk2.stop()"
   ]
  },
  {
   "cell_type": "code",
   "execution_count": 21,
   "id": "834fdf2c",
   "metadata": {},
   "outputs": [],
   "source": [
    " zk.delete('/mygroup', recursive=True)"
   ]
  },
  {
   "cell_type": "code",
   "execution_count": null,
   "id": "e43c6b0f",
   "metadata": {},
   "outputs": [],
   "source": []
  },
  {
   "cell_type": "code",
   "execution_count": null,
   "id": "c60f828e",
   "metadata": {},
   "outputs": [],
   "source": []
  },
  {
   "cell_type": "markdown",
   "id": "8f3b1d19",
   "metadata": {},
   "source": [
    "##  Distributed Application Configuration"
   ]
  },
  {
   "cell_type": "code",
   "execution_count": 22,
   "id": "e76e450f",
   "metadata": {},
   "outputs": [
    {
     "data": {
      "text/plain": [
       "'/myconfig'"
      ]
     },
     "execution_count": 22,
     "metadata": {},
     "output_type": "execute_result"
    }
   ],
   "source": [
    "zk.create('/myconfig', b'sheep_count=1')"
   ]
  },
  {
   "cell_type": "code",
   "execution_count": 23,
   "id": "273791e5",
   "metadata": {},
   "outputs": [],
   "source": [
    "zk1 = KazooClient()\n",
    "zk1.start()"
   ]
  },
  {
   "cell_type": "code",
   "execution_count": 24,
   "id": "26ead424",
   "metadata": {},
   "outputs": [],
   "source": [
    "def watch_node(state):\n",
    "    print(state)"
   ]
  },
  {
   "cell_type": "code",
   "execution_count": 25,
   "id": "8e48c1fe",
   "metadata": {},
   "outputs": [
    {
     "data": {
      "text/plain": [
       "(b'sheep_count=1',\n",
       " ZnodeStat(czxid=16, mzxid=16, ctime=1666874889761, mtime=1666874889761, version=0, cversion=0, aversion=0, ephemeralOwner=0, dataLength=13, numChildren=0, pzxid=16))"
      ]
     },
     "execution_count": 25,
     "metadata": {},
     "output_type": "execute_result"
    }
   ],
   "source": [
    "zk1.get('/myconfig', watch=watch_node)"
   ]
  },
  {
   "cell_type": "code",
   "execution_count": 26,
   "id": "afdd264c",
   "metadata": {},
   "outputs": [
    {
     "name": "stdout",
     "output_type": "stream",
     "text": [
      "WatchedEvent(type='CHANGED', state='CONNECTED', path='/myconfig')\n"
     ]
    },
    {
     "data": {
      "text/plain": [
       "ZnodeStat(czxid=16, mzxid=18, ctime=1666874889761, mtime=1666874891074, version=1, cversion=0, aversion=0, ephemeralOwner=0, dataLength=13, numChildren=0, pzxid=16)"
      ]
     },
     "execution_count": 26,
     "metadata": {},
     "output_type": "execute_result"
    }
   ],
   "source": [
    "zk.set('/myconfig', b'sheep_count=2')"
   ]
  },
  {
   "cell_type": "code",
   "execution_count": 27,
   "id": "a78a35d1",
   "metadata": {},
   "outputs": [
    {
     "data": {
      "text/plain": [
       "ZnodeStat(czxid=16, mzxid=19, ctime=1666874889761, mtime=1666874891983, version=2, cversion=0, aversion=0, ephemeralOwner=0, dataLength=13, numChildren=0, pzxid=16)"
      ]
     },
     "execution_count": 27,
     "metadata": {},
     "output_type": "execute_result"
    }
   ],
   "source": [
    "zk.set('/myconfig', b'sheep_count=3')  # Trigger (watcher) is resetted "
   ]
  },
  {
   "cell_type": "code",
   "execution_count": null,
   "id": "bb541551",
   "metadata": {},
   "outputs": [],
   "source": []
  },
  {
   "cell_type": "markdown",
   "id": "edd0b86a",
   "metadata": {},
   "source": [
    "## cli outputs"
   ]
  },
  {
   "cell_type": "markdown",
   "id": "c833d2ed",
   "metadata": {},
   "source": [
    "```\n",
    "# echo conf | nc localhost 2181\n",
    "clientPort=2181\n",
    "dataDir=/data/version-2\n",
    "dataLogDir=/datalog/version-2\n",
    "tickTime=2000\n",
    "maxClientCnxns=60\n",
    "minSessionTimeout=4000\n",
    "maxSessionTimeout=40000\n",
    "serverId=0\n",
    "# echo stat | nc localhost 2181\n",
    "Zookeeper version: 3.4.14-4c25d480e66aadd371de8bd2fd8da255ac140bcf, built on 03/06/2019 16:18 GMT\n",
    "Clients:\n",
    " /127.0.0.1:49804[1](queued=0,recved=42,sent=42)\n",
    " /127.0.0.1:49798[1](queued=0,recved=43,sent=43)\n",
    " /127.0.0.1:49796[1](queued=0,recved=87,sent=87)\n",
    " /127.0.0.1:49800[1](queued=0,recved=43,sent=43)\n",
    " /127.0.0.1:49802[1](queued=0,recved=42,sent=42)\n",
    " /127.0.0.1:49810[0](queued=0,recved=1,sent=0)\n",
    "\n",
    "Latency min/avg/max: 0/0/19\n",
    "Received: 259\n",
    "Sent: 258\n",
    "Connections: 6\n",
    "Outstanding: 0\n",
    "Zxid: 0xa\n",
    "Mode: standalone\n",
    "Node count: 8\n",
    "# echo ruok | nc localhost 2181\n",
    "imok# echo cons | nc localhost 2181\n",
    " /127.0.0.1:49804[1](queued=0,recved=51,sent=51,sid=0x1000009fc800004,lop=PING,est=1666874662328,to=10000,lcxid=0x0,lzxid=0xa,lresp=1219435,llat=0,minlat=0,avglat=0,maxlat=2)\n",
    " /127.0.0.1:49798[1](queued=0,recved=52,sent=52,sid=0x1000009fc800001,lop=PING,est=1666874659941,to=10000,lcxid=0x0,lzxid=0xa,lresp=1218612,llat=0,minlat=0,avglat=0,maxlat=3)\n",
    " /127.0.0.1:49796[1](queued=0,recved=96,sent=96,sid=0x1000009fc800000,lop=PING,est=1666874548802,to=10000,lcxid=0xc,lzxid=0xa,lresp=1219596,llat=1,minlat=0,avglat=1,maxlat=19)\n",
    " /127.0.0.1:49800[1](queued=0,recved=52,sent=52,sid=0x1000009fc800002,lop=PING,est=1666874659948,to=10000,lcxid=0x0,lzxid=0xa,lresp=1220369,llat=1,minlat=0,avglat=0,maxlat=2)\n",
    " /127.0.0.1:49802[1](queued=0,recved=51,sent=51,sid=0x1000009fc800003,lop=PING,est=1666874662310,to=10000,lcxid=0x0,lzxid=0xa,lresp=1219568,llat=1,minlat=0,avglat=0,maxlat=13)\n",
    " /127.0.0.1:49814[0](queued=0,recved=1,sent=0)\n",
    "```"
   ]
  },
  {
   "cell_type": "markdown",
   "id": "3eb0cc21",
   "metadata": {},
   "source": [
    "### Before and after we connect watched - we can see a new connection is added\n",
    "\n",
    "```\n",
    "# echo dump | nc localhost 2181\n",
    "SessionTracker dump:\n",
    "Session Sets (6):\n",
    "0 expire at Thu Jan 01 00:21:10 UTC 1970:\n",
    "0 expire at Thu Jan 01 00:21:12 UTC 1970:\n",
    "0 expire at Thu Jan 01 00:21:14 UTC 1970:\n",
    "0 expire at Thu Jan 01 00:21:16 UTC 1970:\n",
    "4 expire at Thu Jan 01 00:21:18 UTC 1970:\n",
    "        0x1000009fc800003\n",
    "        0x1000009fc800002\n",
    "        0x1000009fc800000\n",
    "        0x1000009fc800004\n",
    "1 expire at Thu Jan 01 00:21:20 UTC 1970:\n",
    "        0x1000009fc800001\n",
    "ephemeral nodes dump:\n",
    "Sessions with Ephemerals (0):\n",
    "# echo wchs | nc localhost 2181\n",
    "0 connections watching 0 paths\n",
    "Total watches:0\n",
    "# echo wchs | nc localhost 2181\n",
    "1 connections watching 0 paths\n",
    "Total watches:0\n",
    "#\n",
    "```"
   ]
  },
  {
   "cell_type": "code",
   "execution_count": null,
   "id": "bfd12373",
   "metadata": {},
   "outputs": [],
   "source": []
  }
 ],
 "metadata": {
  "kernelspec": {
   "display_name": "Python 3 (ipykernel)",
   "language": "python",
   "name": "python3"
  },
  "language_info": {
   "codemirror_mode": {
    "name": "ipython",
    "version": 3
   },
   "file_extension": ".py",
   "mimetype": "text/x-python",
   "name": "python",
   "nbconvert_exporter": "python",
   "pygments_lexer": "ipython3",
   "version": "3.7.3"
  }
 },
 "nbformat": 4,
 "nbformat_minor": 5
}
