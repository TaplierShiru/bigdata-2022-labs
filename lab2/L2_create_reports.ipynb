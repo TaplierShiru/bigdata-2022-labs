{
 "cells": [
  {
   "cell_type": "markdown",
   "id": "7b87aaeb",
   "metadata": {},
   "source": [
    "# Init spark/files/base classes"
   ]
  },
  {
   "cell_type": "code",
   "execution_count": 1,
   "id": "66e5bfa6",
   "metadata": {},
   "outputs": [],
   "source": [
    "from datetime import datetime\n",
    "from pyspark.sql.functions import col\n",
    "from pyspark.sql.types import StructType, StructField, StringType, DateType"
   ]
  },
  {
   "cell_type": "code",
   "execution_count": 2,
   "id": "5af14efe",
   "metadata": {},
   "outputs": [
    {
     "name": "stderr",
     "output_type": "stream",
     "text": [
      "/usr/local/lib/python3.6/dist-packages/pyspark/context.py:238: FutureWarning: Python 3.6 support is deprecated in Spark 3.2.\n",
      "  FutureWarning\n"
     ]
    },
    {
     "data": {
      "text/html": [
       "\n",
       "            <div>\n",
       "                <p><b>SparkSession - in-memory</b></p>\n",
       "                \n",
       "        <div>\n",
       "            <p><b>SparkContext</b></p>\n",
       "\n",
       "            <p><a href=\"http://maprdemo.mapr.io:4040\">Spark UI</a></p>\n",
       "\n",
       "            <dl>\n",
       "              <dt>Version</dt>\n",
       "                <dd><code>v3.2.2</code></dd>\n",
       "              <dt>Master</dt>\n",
       "                <dd><code>local[*]</code></dd>\n",
       "              <dt>AppName</dt>\n",
       "                <dd><code>pyspark-shell</code></dd>\n",
       "            </dl>\n",
       "        </div>\n",
       "        \n",
       "            </div>\n",
       "        "
      ],
      "text/plain": [
       "<pyspark.sql.session.SparkSession at 0x7f3646ca0b70>"
      ]
     },
     "execution_count": 2,
     "metadata": {},
     "output_type": "execute_result"
    }
   ],
   "source": [
    "from pyspark.sql import SparkSession\n",
    "import os\n",
    "\n",
    "os.environ['PYSPARK_SUBMIT_ARGS'] = '--packages com.databricks:spark-xml_2.12:0.13.0 pyspark-shell'\n",
    "\n",
    "spark_session = SparkSession.builder.getOrCreate()\n",
    "sc = spark_session._sc\n",
    "spark_session"
   ]
  },
  {
   "cell_type": "markdown",
   "id": "f1ab6a62",
   "metadata": {},
   "source": [
    "### Load data/files"
   ]
  },
  {
   "cell_type": "code",
   "execution_count": 3,
   "id": "1784d84a",
   "metadata": {},
   "outputs": [
    {
     "name": "stdout",
     "output_type": "stream",
     "text": [
      "name,wikipedia_url\r\n",
      "A# .NET,https://en.wikipedia.org/wiki/A_Sharp_(.NET)\r\n",
      "A# (Axiom),https://en.wikipedia.org/wiki/A_Sharp_(Axiom)\r\n",
      "A-0 System,https://en.wikipedia.org/wiki/A-0_System\r\n",
      "A+,https://en.wikipedia.org/wiki/A%2B_(programming_language)\r\n",
      "A++,https://en.wikipedia.org/wiki/A%2B%2B\r\n",
      "ABAP,https://en.wikipedia.org/wiki/ABAP\r\n",
      "ABC,https://en.wikipedia.org/wiki/ABC_(programming_language)\r\n",
      "ABC ALGOL,https://en.wikipedia.org/wiki/ABC_ALGOL\r\n",
      "ABSET,https://en.wikipedia.org/wiki/ABSET\r\n"
     ]
    }
   ],
   "source": [
    "!head /mnt/data/programming-languages.csv"
   ]
  },
  {
   "cell_type": "code",
   "execution_count": 4,
   "id": "faaa2ab5",
   "metadata": {},
   "outputs": [
    {
     "data": {
      "text/plain": [
       "Row(name='name', wikipedia_url='wikipedia_url')"
      ]
     },
     "execution_count": 4,
     "metadata": {},
     "output_type": "execute_result"
    }
   ],
   "source": [
    "prog_lang_schema = StructType([\n",
    "    StructField(\"name\", StringType(), False),\n",
    "    StructField(\"wikipedia_url\", StringType(), False),\n",
    "])\n",
    "df_prog_langs = spark_session.read.csv(\"/mnt/data/programming-languages.csv\", schema=prog_lang_schema)\n",
    "df_prog_langs.head()"
   ]
  },
  {
   "cell_type": "code",
   "execution_count": 5,
   "id": "61232759",
   "metadata": {},
   "outputs": [
    {
     "data": {
      "text/plain": [
       "['name',\n",
       " 'A# .NET',\n",
       " 'A# (Axiom)',\n",
       " 'A-0 System',\n",
       " 'A+',\n",
       " 'A++',\n",
       " 'ABAP',\n",
       " 'ABC',\n",
       " 'ABC ALGOL',\n",
       " 'ABSET']"
      ]
     },
     "execution_count": 5,
     "metadata": {},
     "output_type": "execute_result"
    }
   ],
   "source": [
    "# List of language names\n",
    "prog_langs_list = [str(row[0]) for row in df_prog_langs.select('name').collect()]\n",
    "prog_langs_list[:10]"
   ]
  },
  {
   "cell_type": "markdown",
   "id": "a3f8b5e0",
   "metadata": {},
   "source": [
    "### Check XML file and load it via spark"
   ]
  },
  {
   "cell_type": "code",
   "execution_count": 6,
   "id": "46ec3bde",
   "metadata": {},
   "outputs": [
    {
     "name": "stdout",
     "output_type": "stream",
     "text": [
      "���<?xml version=\"1.0\" encoding=\"utf-8\"?>\r\n",
      "<posts>\r\n",
      "  <row Id=\"4\" PostTypeId=\"1\" AcceptedAnswerId=\"7\" CreationDate=\"2008-07-31T21:42:52.667\" Score=\"630\" ViewCount=\"42817\" Body=\"&lt;p&gt;I want to use a track-bar to change a form's opacity.&lt;/p&gt;&#xA;&#xA;&lt;p&gt;This is my code:&lt;/p&gt;&#xA;&#xA;&lt;pre&gt;&lt;code&gt;decimal trans = trackBar1.Value / 5000;&#xA;this.Opacity = trans;&#xA;&lt;/code&gt;&lt;/pre&gt;&#xA;&#xA;&lt;p&gt;When I build the application, it gives the following error:&lt;/p&gt;&#xA;&#xA;&lt;blockquote&gt;&#xA;  &lt;p&gt;Cannot implicitly convert type &lt;code&gt;'decimal'&lt;/code&gt; to &lt;code&gt;'double'&lt;/code&gt;&lt;/p&gt;&#xA;&lt;/blockquote&gt;&#xA;&#xA;&lt;p&gt;I tried using &lt;code&gt;trans&lt;/code&gt; and &lt;code&gt;double&lt;/code&gt; but then the control doesn't work. This code worked fine in a past VB.NET project.&lt;/p&gt;&#xA;\" OwnerUserId=\"8\" LastEditorUserId=\"3641067\" LastEditorDisplayName=\"Rich B\" LastEditDate=\"2019-07-19T01:39:54.173\" LastActivityDate=\"2019-07-19T01:39:54.173\" Title=\"Convert Decimal to Double?\" Tags=\"&lt;c#&gt;&lt;floating-point&gt;&lt;type-conversion&gt;&lt;double&gt;&lt;decimal&gt;\" AnswerCount=\"13\" CommentCount=\"2\" FavoriteCount=\"48\" CommunityOwnedDate=\"2012-10-31T16:42:47.213\" />\r\n"
     ]
    }
   ],
   "source": [
    "!head -n 3 /mnt/data/posts_sample.xml"
   ]
  },
  {
   "cell_type": "code",
   "execution_count": 7,
   "id": "2f50da71",
   "metadata": {},
   "outputs": [
    {
     "data": {
      "text/plain": [
       "Row(_AcceptedAnswerId=7, _AnswerCount=13, _Body=\"<p>I want to use a track-bar to change a form's opacity.</p>\\n\\n<p>This is my code:</p>\\n\\n<pre><code>decimal trans = trackBar1.Value / 5000;\\nthis.Opacity = trans;\\n</code></pre>\\n\\n<p>When I build the application, it gives the following error:</p>\\n\\n<blockquote>\\n  <p>Cannot implicitly convert type <code>'decimal'</code> to <code>'double'</code></p>\\n</blockquote>\\n\\n<p>I tried using <code>trans</code> and <code>double</code> but then the control doesn't work. This code worked fine in a past VB.NET project.</p>\\n\", _ClosedDate=None, _CommentCount=2, _CommunityOwnedDate=datetime.datetime(2012, 10, 31, 16, 42, 47, 213000), _CreationDate=datetime.datetime(2008, 7, 31, 21, 42, 52, 667000), _FavoriteCount=48, _Id=4, _LastActivityDate=datetime.datetime(2019, 7, 19, 1, 39, 54, 173000), _LastEditDate=datetime.datetime(2019, 7, 19, 1, 39, 54, 173000), _LastEditorDisplayName='Rich B', _LastEditorUserId=3641067, _OwnerDisplayName=None, _OwnerUserId=8, _ParentId=None, _PostTypeId=1, _Score=630, _Tags='<c#><floating-point><type-conversion><double><decimal>', _Title='Convert Decimal to Double?', _ViewCount=42817)"
      ]
     },
     "execution_count": 7,
     "metadata": {},
     "output_type": "execute_result"
    }
   ],
   "source": [
    "df_posts_sample = spark_session.read.format(\"xml\").options(rowTag=\"row\").load('/mnt/data/posts_sample.xml')\n",
    "df_posts_sample.head()"
   ]
  },
  {
   "cell_type": "code",
   "execution_count": 38,
   "id": "a51a79af",
   "metadata": {},
   "outputs": [],
   "source": [
    "def define_language(row):\n",
    "    language_tag = None\n",
    "    for lang in prog_langs_list:\n",
    "        if '<' + lang.lower() + '>' in row._Tags.lower():\n",
    "            language_tag = lang\n",
    "            break\n",
    "    if language_tag is None:\n",
    "        return None\n",
    "    return (row._Id, language_tag, row._CreationDate.year)\n",
    "\n",
    "def check_date_range(row):\n",
    "    left_border = datetime(year=2010, month=1, day=1)\n",
    "    right_border = datetime(year=2020, month=1, day=1)\n",
    "    created_date = row._CreationDate\n",
    "    return created_date > left_border and created_date < right_border"
   ]
  },
  {
   "cell_type": "code",
   "execution_count": 39,
   "id": "ffa0100a",
   "metadata": {},
   "outputs": [
    {
     "name": "stdout",
     "output_type": "stream",
     "text": [
      "+-----------+----+---+\n",
      "|         _1|  _2| _3|\n",
      "+-----------+----+---+\n",
      "| JavaScript|2010| 44|\n",
      "|       Java|2011| 92|\n",
      "| ColdFusion|2011|  4|\n",
      "|      Scala|2013| 10|\n",
      "|     Python|2013| 87|\n",
      "|Objective-C|2014| 49|\n",
      "|       Bash|2014| 13|\n",
      "|       Perl|2014|  9|\n",
      "|      Scala|2014|  7|\n",
      "| JavaScript|2016|272|\n",
      "|     MATLAB|2016| 15|\n",
      "|       Curl|2016|  5|\n",
      "|     Python|2016|141|\n",
      "|        PHP|2019| 59|\n",
      "| JavaScript|2019|131|\n",
      "|     Python|2019|162|\n",
      "|       Curl|2019|  3|\n",
      "|      Scala|2019|  6|\n",
      "|     Elixir|2015|  2|\n",
      "|     Python|2015|119|\n",
      "+-----------+----+---+\n",
      "only showing top 20 rows\n",
      "\n"
     ]
    }
   ],
   "source": [
    "top_languages_per_year = df_posts_sample.rdd.filter(\n",
    "    lambda row: row._Tags is not None and check_date_range(row)\n",
    ").map(define_language).filter(\n",
    "    lambda row: row is not None\n",
    ").keyBy(lambda row: (row[1], row[2])).aggregateByKey(\n",
    "    0,\n",
    "    lambda acc, value: acc + 1,\n",
    "    lambda acc1, acc2: acc1 + acc2,\n",
    ").map(\n",
    "    lambda row: (row[0][0], row[0][1], row[1])\n",
    ").toDF()\n",
    "top_languages_per_year.show()"
   ]
  },
  {
   "cell_type": "code",
   "execution_count": 40,
   "id": "d51f8877",
   "metadata": {
    "scrolled": false
   },
   "outputs": [
    {
     "name": "stdout",
     "output_type": "stream",
     "text": [
      "+-------------------+----+-------------+\n",
      "|ProgrammingLanguage|Year|NumberOfPosts|\n",
      "+-------------------+----+-------------+\n",
      "|         JavaScript|2010|           44|\n",
      "|               Java|2011|           92|\n",
      "|         ColdFusion|2011|            4|\n",
      "|              Scala|2013|           10|\n",
      "|             Python|2013|           87|\n",
      "|        Objective-C|2014|           49|\n",
      "|               Bash|2014|           13|\n",
      "|               Perl|2014|            9|\n",
      "|              Scala|2014|            7|\n",
      "|         JavaScript|2016|          272|\n",
      "|             MATLAB|2016|           15|\n",
      "|               Curl|2016|            5|\n",
      "|             Python|2016|          141|\n",
      "|                PHP|2019|           59|\n",
      "|         JavaScript|2019|          131|\n",
      "|             Python|2019|          162|\n",
      "|               Curl|2019|            3|\n",
      "|              Scala|2019|            6|\n",
      "|             Elixir|2015|            2|\n",
      "|             Python|2015|          119|\n",
      "+-------------------+----+-------------+\n",
      "only showing top 20 rows\n",
      "\n"
     ]
    }
   ],
   "source": [
    "top_languages_per_year = top_languages_per_year.select(\n",
    "    col('_1').alias('ProgrammingLanguage'), \n",
    "    col('_2').alias('Year'),\n",
    "    col('_3').alias('NumberOfPosts')\n",
    ")\n",
    "top_languages_per_year.show()"
   ]
  },
  {
   "cell_type": "code",
   "execution_count": 43,
   "id": "05f7fc6e",
   "metadata": {},
   "outputs": [],
   "source": [
    "top_languages_per_year.write.parquet(\"top_languages_per_year.parquet\")"
   ]
  },
  {
   "cell_type": "code",
   "execution_count": null,
   "id": "94979418",
   "metadata": {},
   "outputs": [],
   "source": []
  },
  {
   "cell_type": "code",
   "execution_count": 49,
   "id": "dbecef36",
   "metadata": {
    "scrolled": true
   },
   "outputs": [
    {
     "name": "stdout",
     "output_type": "stream",
     "text": [
      "2010\n",
      "+-------------------+\n",
      "|ProgrammingLanguage|\n",
      "+-------------------+\n",
      "|               Java|\n",
      "|         JavaScript|\n",
      "|                PHP|\n",
      "|             Python|\n",
      "|        Objective-C|\n",
      "|                  C|\n",
      "|               Ruby|\n",
      "|             Delphi|\n",
      "|        AppleScript|\n",
      "|               Perl|\n",
      "+-------------------+\n",
      "\n",
      "--------------\n",
      "2011\n",
      "+-------------------+\n",
      "|ProgrammingLanguage|\n",
      "+-------------------+\n",
      "|                PHP|\n",
      "|               Java|\n",
      "|         JavaScript|\n",
      "|             Python|\n",
      "|        Objective-C|\n",
      "|                  C|\n",
      "|               Ruby|\n",
      "|               Perl|\n",
      "|             Delphi|\n",
      "|               Bash|\n",
      "+-------------------+\n",
      "\n",
      "--------------\n",
      "2012\n",
      "+-------------------+\n",
      "|ProgrammingLanguage|\n",
      "+-------------------+\n",
      "|                PHP|\n",
      "|         JavaScript|\n",
      "|               Java|\n",
      "|             Python|\n",
      "|        Objective-C|\n",
      "|                  C|\n",
      "|               Ruby|\n",
      "|               Bash|\n",
      "|                  R|\n",
      "|                Lua|\n",
      "+-------------------+\n",
      "\n",
      "--------------\n",
      "2013\n",
      "+-------------------+\n",
      "|ProgrammingLanguage|\n",
      "+-------------------+\n",
      "|         JavaScript|\n",
      "|               Java|\n",
      "|                PHP|\n",
      "|             Python|\n",
      "|        Objective-C|\n",
      "|                  C|\n",
      "|               Ruby|\n",
      "|                  R|\n",
      "|               Bash|\n",
      "|              Scala|\n",
      "+-------------------+\n",
      "\n",
      "--------------\n",
      "2014\n",
      "+-------------------+\n",
      "|ProgrammingLanguage|\n",
      "+-------------------+\n",
      "|         JavaScript|\n",
      "|               Java|\n",
      "|                PHP|\n",
      "|             Python|\n",
      "|                  C|\n",
      "|        Objective-C|\n",
      "|                  R|\n",
      "|               Ruby|\n",
      "|             MATLAB|\n",
      "|               Bash|\n",
      "+-------------------+\n",
      "\n",
      "--------------\n",
      "2015\n",
      "+-------------------+\n",
      "|ProgrammingLanguage|\n",
      "+-------------------+\n",
      "|         JavaScript|\n",
      "|               Java|\n",
      "|                PHP|\n",
      "|             Python|\n",
      "|                  R|\n",
      "|                  C|\n",
      "|        Objective-C|\n",
      "|               Ruby|\n",
      "|             MATLAB|\n",
      "|              Scala|\n",
      "+-------------------+\n",
      "\n",
      "--------------\n",
      "2016\n",
      "+-------------------+\n",
      "|ProgrammingLanguage|\n",
      "+-------------------+\n",
      "|         JavaScript|\n",
      "|               Java|\n",
      "|             Python|\n",
      "|                PHP|\n",
      "|                  R|\n",
      "|                  C|\n",
      "|               Ruby|\n",
      "|               Bash|\n",
      "|              Scala|\n",
      "|             MATLAB|\n",
      "+-------------------+\n",
      "\n",
      "--------------\n",
      "2017\n",
      "+-------------------+\n",
      "|ProgrammingLanguage|\n",
      "+-------------------+\n",
      "|         JavaScript|\n",
      "|               Java|\n",
      "|             Python|\n",
      "|                PHP|\n",
      "|                  R|\n",
      "|                  C|\n",
      "|        Objective-C|\n",
      "|               Ruby|\n",
      "|         PowerShell|\n",
      "|         TypeScript|\n",
      "+-------------------+\n",
      "\n",
      "--------------\n",
      "2018\n",
      "+-------------------+\n",
      "|ProgrammingLanguage|\n",
      "+-------------------+\n",
      "|             Python|\n",
      "|         JavaScript|\n",
      "|               Java|\n",
      "|                PHP|\n",
      "|                  R|\n",
      "|                  C|\n",
      "|              Scala|\n",
      "|         TypeScript|\n",
      "|         PowerShell|\n",
      "|               Bash|\n",
      "+-------------------+\n",
      "\n",
      "--------------\n",
      "2019\n",
      "+-------------------+\n",
      "|ProgrammingLanguage|\n",
      "+-------------------+\n",
      "|             Python|\n",
      "|         JavaScript|\n",
      "|               Java|\n",
      "|                PHP|\n",
      "|                  R|\n",
      "|                  C|\n",
      "|             MATLAB|\n",
      "|               Dart|\n",
      "|                 Go|\n",
      "|               Ruby|\n",
      "+-------------------+\n",
      "\n",
      "--------------\n"
     ]
    }
   ],
   "source": [
    "folder_save_name = \"reports_top_10languages_per_year\"\n",
    "os.makedirs(folder_save_name, exist_ok=True)\n",
    "\n",
    "parquetFile = spark_session.read.parquet(\"top_languages_per_year.parquet\")\n",
    "parquetFile.createOrReplaceTempView(\"parquetFile\")\n",
    "for year in range(2010, 2020):\n",
    "    print(year)\n",
    "    top_10 = spark_session.sql(\n",
    "        \"SELECT ProgrammingLanguage \"\n",
    "        \"FROM parquetFile \"\n",
    "        f\"WHERE Year = {year} \"\n",
    "        \"ORDER BY NumberOfPosts DESC LIMIT 10 \"\n",
    "    )\n",
    "    top_10.write.parquet(f\"{folder_save_name}/top_10_langueages_year_{year}.parquet\")\n",
    "    top_10.show()\n",
    "    print('--------------')"
   ]
  },
  {
   "cell_type": "code",
   "execution_count": null,
   "id": "571eb538",
   "metadata": {},
   "outputs": [],
   "source": []
  },
  {
   "cell_type": "code",
   "execution_count": null,
   "id": "1c77fc7f",
   "metadata": {},
   "outputs": [],
   "source": []
  }
 ],
 "metadata": {
  "kernelspec": {
   "display_name": "Python 3",
   "language": "python",
   "name": "python3"
  },
  "language_info": {
   "codemirror_mode": {
    "name": "ipython",
    "version": 3
   },
   "file_extension": ".py",
   "mimetype": "text/x-python",
   "name": "python",
   "nbconvert_exporter": "python",
   "pygments_lexer": "ipython3",
   "version": "3.6.9"
  },
  "vscode": {
   "interpreter": {
    "hash": "369f2c481f4da34e4445cda3fffd2e751bd1c4d706f27375911949ba6bb62e1c"
   }
  }
 },
 "nbformat": 4,
 "nbformat_minor": 5
}
